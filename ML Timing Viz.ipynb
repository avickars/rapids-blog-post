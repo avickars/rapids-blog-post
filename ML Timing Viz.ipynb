{
 "cells": [
  {
   "cell_type": "code",
   "execution_count": 1,
   "id": "ef341cf3",
   "metadata": {},
   "outputs": [],
   "source": [
    "import pandas as pd\n",
    "import os\n",
    "os.environ[ 'MPLCONFIGDIR' ] = '/tmp/'\n",
    "import matplotlib.pyplot as plt\n",
    "import numpy as np"
   ]
  },
  {
   "cell_type": "code",
   "execution_count": 2,
   "id": "3eba6dd7",
   "metadata": {},
   "outputs": [],
   "source": [
    "sklearn_v_rapids = pd.read_csv('AWS Results/sklearn_v_rapids_results.csv',\n",
    "                              index_col=0, \n",
    "                               header=[0, 1], skipinitialspace=True)"
   ]
  },
  {
   "cell_type": "code",
   "execution_count": 3,
   "id": "ed19e272",
   "metadata": {},
   "outputs": [],
   "source": [
    "results_df_sklearn = sklearn_v_rapids['Scikit-Learn']\n",
    "results_df_rapids = sklearn_v_rapids['Rapids']"
   ]
  },
  {
   "cell_type": "code",
   "execution_count": 5,
   "id": "cc989d85",
   "metadata": {},
   "outputs": [
    {
     "data": {
      "text/html": [
       "<div>\n",
       "<style scoped>\n",
       "    .dataframe tbody tr th:only-of-type {\n",
       "        vertical-align: middle;\n",
       "    }\n",
       "\n",
       "    .dataframe tbody tr th {\n",
       "        vertical-align: top;\n",
       "    }\n",
       "\n",
       "    .dataframe thead th {\n",
       "        text-align: right;\n",
       "    }\n",
       "</style>\n",
       "<table border=\"1\" class=\"dataframe\">\n",
       "  <thead>\n",
       "    <tr style=\"text-align: right;\">\n",
       "      <th></th>\n",
       "      <th>Test</th>\n",
       "      <th>Total</th>\n",
       "      <th>Average</th>\n",
       "    </tr>\n",
       "  </thead>\n",
       "  <tbody>\n",
       "    <tr>\n",
       "      <th>0</th>\n",
       "      <td>Linear Regression</td>\n",
       "      <td>0.184587</td>\n",
       "      <td>0.061529</td>\n",
       "    </tr>\n",
       "    <tr>\n",
       "      <th>2</th>\n",
       "      <td>Linear Regression</td>\n",
       "      <td>0.076174</td>\n",
       "      <td>0.025391</td>\n",
       "    </tr>\n",
       "    <tr>\n",
       "      <th>4</th>\n",
       "      <td>Linear Regression</td>\n",
       "      <td>0.075373</td>\n",
       "      <td>0.025124</td>\n",
       "    </tr>\n",
       "    <tr>\n",
       "      <th>6</th>\n",
       "      <td>Linear Regression</td>\n",
       "      <td>0.059574</td>\n",
       "      <td>0.019858</td>\n",
       "    </tr>\n",
       "    <tr>\n",
       "      <th>8</th>\n",
       "      <td>Linear Regression</td>\n",
       "      <td>0.070149</td>\n",
       "      <td>0.023383</td>\n",
       "    </tr>\n",
       "    <tr>\n",
       "      <th>10</th>\n",
       "      <td>Linear Regression</td>\n",
       "      <td>0.083193</td>\n",
       "      <td>0.027731</td>\n",
       "    </tr>\n",
       "    <tr>\n",
       "      <th>12</th>\n",
       "      <td>Linear Regression</td>\n",
       "      <td>0.151090</td>\n",
       "      <td>0.050363</td>\n",
       "    </tr>\n",
       "    <tr>\n",
       "      <th>14</th>\n",
       "      <td>Linear Regression</td>\n",
       "      <td>0.256414</td>\n",
       "      <td>0.085471</td>\n",
       "    </tr>\n",
       "    <tr>\n",
       "      <th>16</th>\n",
       "      <td>Linear Regression</td>\n",
       "      <td>0.527735</td>\n",
       "      <td>0.175912</td>\n",
       "    </tr>\n",
       "    <tr>\n",
       "      <th>18</th>\n",
       "      <td>Linear Regression</td>\n",
       "      <td>1.085618</td>\n",
       "      <td>0.361873</td>\n",
       "    </tr>\n",
       "  </tbody>\n",
       "</table>\n",
       "</div>"
      ],
      "text/plain": [
       "                 Test     Total   Average\n",
       "0   Linear Regression  0.184587  0.061529\n",
       "2   Linear Regression  0.076174  0.025391\n",
       "4   Linear Regression  0.075373  0.025124\n",
       "6   Linear Regression  0.059574  0.019858\n",
       "8   Linear Regression  0.070149  0.023383\n",
       "10  Linear Regression  0.083193  0.027731\n",
       "12  Linear Regression  0.151090  0.050363\n",
       "14  Linear Regression  0.256414  0.085471\n",
       "16  Linear Regression  0.527735  0.175912\n",
       "18  Linear Regression  1.085618  0.361873"
      ]
     },
     "execution_count": 5,
     "metadata": {},
     "output_type": "execute_result"
    }
   ],
   "source": [
    "results_df_rapids[results_df_rapids['Test'] == 'Linear Regression']"
   ]
  },
  {
   "cell_type": "code",
   "execution_count": null,
   "id": "f119991a",
   "metadata": {},
   "outputs": [],
   "source": []
  },
  {
   "cell_type": "code",
   "execution_count": 15,
   "id": "629ae878",
   "metadata": {},
   "outputs": [],
   "source": [
    "NUM_DSIZE_DOUBLINGS = 10"
   ]
  },
  {
   "cell_type": "code",
   "execution_count": 13,
   "id": "155ee6d6",
   "metadata": {},
   "outputs": [],
   "source": [
    "# Defining the plot that is used\n",
    "def plot(axs, averages_pandas, averages_rapids, test):\n",
    "    axs.bar(x = ind, \n",
    "            height=averages_pandas, \n",
    "            width = width, \n",
    "            color='royalblue', label='Scikit-Learn')\n",
    "\n",
    "    axs.bar(ind+width, \n",
    "                height=averages_rapids, \n",
    "                width = width, \n",
    "                color='seagreen',label='Rapids')\n",
    "\n",
    "    axs.set_ylabel('Average Time (s)')\n",
    "    axs.set_xlabel('Data Set Size (GB)')\n",
    "    axs.set_title(f\"Test: {test}\",fontweight=\"bold\", fontsize=12)\n",
    "    axs.legend(loc='upper right')\n",
    "    axs.set_xticks(ticks=ind + width/2, \n",
    "              labels=bar_labels)\n",
    "    return axs"
   ]
  },
  {
   "cell_type": "code",
   "execution_count": 16,
   "id": "80aa0093",
   "metadata": {},
   "outputs": [
    {
     "data": {
      "image/png": "[encoded data removed]",
      "text/plain": [
       "<Figure size 1440x360 with 2 Axes>"
      ]
     },
     "metadata": {
      "needs_background": "light"
     },
     "output_type": "display_data"
    }
   ],
   "source": [
    "fig, (ax1, ax2) = plt.subplots(1, 2)\n",
    "\n",
    "fig.set_size_inches(20, 5)\n",
    "\n",
    "fig.suptitle('Skicit-Learn vs Rapids Timing Comparison', fontsize=15, fontweight=\"bold\")\n",
    "\n",
    "# Setting the number of bars\n",
    "ind = np.arange(NUM_DSIZE_DOUBLINGS)\n",
    "\n",
    "# Defining the width between the bars\n",
    "width = 0.35\n",
    "\n",
    "# Defining the bar labels\n",
    "bar_labels = np.round(results_df_sklearn['Test Size'].drop_duplicates(), 3).astype(str) + \" GB\"\n",
    "\n",
    "plot(ax1, \n",
    "     results_df_sklearn[results_df_sklearn['Test'] == 'Linear Regression']['Average'],\n",
    "     results_df_rapids[results_df_rapids['Test'] == 'Linear Regression']['Average'],\n",
    "     'Linear Regression')\n",
    "\n",
    "plot(ax2, \n",
    "     results_df_sklearn[results_df_sklearn['Test'] == 'K Nearest Neighbour']['Average'],\n",
    "     results_df_rapids[results_df_rapids['Test'] == 'K Nearest Neighbour']['Average'],\n",
    "     'K Nearest Neighbour')\n",
    "plt.savefig('scikit-learn_v_rapids.png')\n",
    "plt.show()"
   ]
  }
 ],
 "metadata": {
  "kernelspec": {
   "display_name": "Python 3 (ipykernel)",
   "language": "python",
   "name": "python3"
  },
  "language_info": {
   "codemirror_mode": {
    "name": "ipython",
    "version": 3
   },
   "file_extension": ".py",
   "mimetype": "text/x-python",
   "name": "python",
   "nbconvert_exporter": "python",
   "pygments_lexer": "ipython3",
   "version": "3.8.12"
  }
 },
 "nbformat": 4,
 "nbformat_minor": 5
}
