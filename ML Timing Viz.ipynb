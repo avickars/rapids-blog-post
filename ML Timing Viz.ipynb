{
 "cells": [
  {
   "cell_type": "code",
   "execution_count": null,
   "id": "ef341cf3",
   "metadata": {},
   "outputs": [],
   "source": [
    "import pandas as pd\n",
    "import os\n",
    "os.environ[ 'MPLCONFIGDIR' ] = '/tmp/'\n",
    "import matplotlib.pyplot as plt\n",
    "import numpy as np"
   ]
  },
  {
   "cell_type": "code",
   "execution_count": null,
   "id": "ed19e272",
   "metadata": {},
   "outputs": [],
   "source": [
    "results_df_sklearn = pd.read_csv('AWS Results/results_df_sklearn.csv',index_col=0)\n",
    "results_df_rapids = pd.read_csv('AWS Results/results_df_rapids_ml.csv',index_col=0)"
   ]
  },
  {
   "cell_type": "code",
   "execution_count": null,
   "id": "f119991a",
   "metadata": {},
   "outputs": [],
   "source": [
    "spark = pd.read_csv('AWS Results/spark_ml_results.csv')"
   ]
  },
  {
   "cell_type": "code",
   "execution_count": null,
   "id": "629ae878",
   "metadata": {},
   "outputs": [],
   "source": [
    "NUM_DSIZE_DOUBLINGS = 9"
   ]
  },
  {
   "cell_type": "code",
   "execution_count": null,
   "id": "155ee6d6",
   "metadata": {},
   "outputs": [],
   "source": [
    "# Defining the plot that is used\n",
    "def plot(axs, averages_pandas, averages_rapids, averages_spark, test):\n",
    "    axs.bar(x = ind, \n",
    "            height=averages_pandas, \n",
    "            width = width, \n",
    "            color='royalblue', label='Scikit-Learn')\n",
    "\n",
    "    axs.bar(ind+width, \n",
    "                height=averages_rapids, \n",
    "                width = width, \n",
    "                color='seagreen',label='Rapids')\n",
    "    \n",
    "    axs.bar(ind+width+width, \n",
    "            height=averages_spark, \n",
    "            width = width, \n",
    "            color='purple',label='Spark')\n",
    "\n",
    "    axs.set_ylabel('Average Time (s)')\n",
    "    axs.set_xlabel('Data Set Size (GB)')\n",
    "    axs.xaxis.label.set_fontsize(15)\n",
    "    axs.yaxis.label.set_fontsize(15)\n",
    "    for item in (axs.get_xticklabels() + axs.get_yticklabels()):\n",
    "        item.set_fontsize(15)\n",
    "        \n",
    "    axs.set_title(f\"Test: {test}\",fontweight=\"bold\", fontsize=15)\n",
    "    axs.legend(loc='upper left',prop={'size': 15})\n",
    "    axs.set_xticks(ticks=ind + width/2, \n",
    "              labels=bar_labels)\n",
    "    \n",
    "    if test == 'K Nearest Neighbour':\n",
    "        ax_new = fig.add_axes([0.655, 0.298, 0.3, 0.15])\n",
    "        plt.ylim(0, 0.005)\n",
    "\n",
    "    else:\n",
    "        ax_new = fig.add_axes([0.655, 0.765, 0.3, 0.15])\n",
    "        plt.ylim(0, 0.5)\n",
    "    ax_new.bar(x = ind, \n",
    "            height=averages_pandas, \n",
    "            width = width, \n",
    "            color='royalblue', label='Scikit-Learn')\n",
    "\n",
    "    ax_new.bar(ind+width, \n",
    "                height=averages_rapids, \n",
    "                width = width, \n",
    "                color='seagreen',label='Rapids')\n",
    "\n",
    "    ax_new.bar(ind+width+width, \n",
    "            height=averages_spark, \n",
    "            width = width, \n",
    "            color='purple',label='Spark')\n",
    "\n",
    "    ax_new.set_xticks([])\n",
    "        \n",
    "    \n",
    "    \n",
    "    \n",
    "    return axs"
   ]
  },
  {
   "cell_type": "code",
   "execution_count": null,
   "id": "80aa0093",
   "metadata": {},
   "outputs": [],
   "source": [
    "fig, (ax1, ax2) = plt.subplots(2, 1)\n",
    "\n",
    "fig.set_size_inches(20, 10)\n",
    "\n",
    "fig.tight_layout(pad=5)\n",
    "\n",
    "fig.suptitle('Skicit-Learn vs Rapids vs Spark Timing Comparison', fontsize=18, fontweight=\"bold\")\n",
    "\n",
    "# Setting the number of bars\n",
    "ind = np.arange(0, NUM_DSIZE_DOUBLINGS*2, 2)\n",
    "\n",
    "# Defining the width between the bars\n",
    "width = 0.55\n",
    "\n",
    "# Defining the bar labels\n",
    "bar_labels = np.round(results_df_sklearn['Test Size'].drop_duplicates(), 3).astype(str)\n",
    "\n",
    "plot(ax1, \n",
    "     results_df_sklearn[results_df_sklearn['Test'] == 'Linear Regression']['Average'],\n",
    "     results_df_rapids[results_df_rapids['Test'] == 'Linear Regression']['Average'],\n",
    "     spark[spark['Test'] == 'Linear Regression']['Average'],\n",
    "     'Linear Regression')\n",
    "\n",
    "plot(ax2, \n",
    "     results_df_sklearn[results_df_sklearn['Test'] == 'K Nearest Neighbour']['Average'],\n",
    "     results_df_rapids[results_df_rapids['Test'] == 'K Nearest Neighbour']['Average'],\n",
    "     spark[spark['Test'] == 'K Nearest Neighbour']['Average'],\n",
    "     'K Nearest Neighbour')\n",
    "plt.savefig('AWS Results/ml_timing.png')\n",
    "plt.show()"
   ]
  }
 ],
 "metadata": {
  "kernelspec": {
   "display_name": "Python 3 (ipykernel)",
   "language": "python",
   "name": "python3"
  },
  "language_info": {
   "codemirror_mode": {
    "name": "ipython",
    "version": 3
   },
   "file_extension": ".py",
   "mimetype": "text/x-python",
   "name": "python",
   "nbconvert_exporter": "python",
   "pygments_lexer": "ipython3",
   "version": "3.8.12"
  }
 },
 "nbformat": 4,
 "nbformat_minor": 5
}
