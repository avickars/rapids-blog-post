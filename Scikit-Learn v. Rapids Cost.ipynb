{
 "cells": [
  {
   "cell_type": "markdown",
   "id": "373f39a0",
   "metadata": {},
   "source": [
    "# Estimating Costs"
   ]
  },
  {
   "cell_type": "markdown",
   "id": "25df0cb1",
   "metadata": {},
   "source": [
    "## Approximating Costs"
   ]
  },
  {
   "cell_type": "code",
   "execution_count": 23,
   "id": "2f0db4d7",
   "metadata": {},
   "outputs": [],
   "source": [
    "import pandas as pd"
   ]
  },
  {
   "cell_type": "code",
   "execution_count": 24,
   "id": "355640f5",
   "metadata": {},
   "outputs": [],
   "source": [
    "sklearn_v_rapids = pd.read_csv('sklearn_v_rapids_results.csv',\n",
    "                              index_col=0, \n",
    "                               header=[0, 1], skipinitialspace=True)"
   ]
  },
  {
   "cell_type": "code",
   "execution_count": 25,
   "id": "7741943e",
   "metadata": {},
   "outputs": [
    {
     "name": "stderr",
     "output_type": "stream",
     "text": [
      "/tmp/ipykernel_18784/2227054005.py:2: SettingWithCopyWarning: \n",
      "A value is trying to be set on a copy of a slice from a DataFrame.\n",
      "Try using .loc[row_indexer,col_indexer] = value instead\n",
      "\n",
      "See the caveats in the documentation: https://pandas.pydata.org/pandas-docs/stable/user_guide/indexing.html#returning-a-view-versus-a-copy\n",
      "  results_df_sklearn['Cost'] = results_df_sklearn['Average']/3600 * 0.379\n"
     ]
    }
   ],
   "source": [
    "results_df_sklearn = sklearn_v_rapids['Scikit-Learn']\n",
    "results_df_sklearn['Cost'] = results_df_sklearn['Average']/3600 * 0.379"
   ]
  },
  {
   "cell_type": "code",
   "execution_count": 26,
   "id": "20d5e6c2",
   "metadata": {},
   "outputs": [
    {
     "name": "stderr",
     "output_type": "stream",
     "text": [
      "/tmp/ipykernel_18784/490145590.py:2: SettingWithCopyWarning: \n",
      "A value is trying to be set on a copy of a slice from a DataFrame.\n",
      "Try using .loc[row_indexer,col_indexer] = value instead\n",
      "\n",
      "See the caveats in the documentation: https://pandas.pydata.org/pandas-docs/stable/user_guide/indexing.html#returning-a-view-versus-a-copy\n",
      "  results_df_rapids['Cost'] = results_df_rapids['Average']/3600 * 0.1344\n"
     ]
    }
   ],
   "source": [
    "results_df_rapids = sklearn_v_rapids['Rapids']\n",
    "results_df_rapids['Cost'] = results_df_rapids['Average']/3600 * 0.1344"
   ]
  },
  {
   "cell_type": "markdown",
   "id": "467604a0",
   "metadata": {},
   "source": [
    "## Vizualization"
   ]
  },
  {
   "cell_type": "code",
   "execution_count": 27,
   "id": "de58d7c1",
   "metadata": {},
   "outputs": [],
   "source": [
    "import os\n",
    "os.environ[ 'MPLCONFIGDIR' ] = '/tmp/'\n",
    "import matplotlib.pyplot as plt\n",
    "import numpy as np"
   ]
  },
  {
   "cell_type": "code",
   "execution_count": 28,
   "id": "b1eda02e",
   "metadata": {},
   "outputs": [],
   "source": [
    "# Defining the plot that is used\n",
    "def plot(axs, averages_pandas, averages_rapids, test):\n",
    "    axs.bar(x = ind, \n",
    "            height=averages_pandas, \n",
    "            width = width, \n",
    "            color='royalblue', label='Scikit-Learn')\n",
    "\n",
    "    axs.bar(ind+width, \n",
    "                height=averages_rapids, \n",
    "                width = width, \n",
    "                color='seagreen',label='Rapids')\n",
    "\n",
    "    axs.set_ylabel('Average Cost ($)')\n",
    "    axs.set_xlabel('Data Set Size (GB)')\n",
    "    axs.set_title(f\"Test: {test}\",fontweight=\"bold\", fontsize=12)\n",
    "    axs.legend(loc='upper right')\n",
    "    axs.set_xticks(ticks=ind + width/2, \n",
    "              labels=bar_labels)\n",
    "    return axs"
   ]
  },
  {
   "cell_type": "code",
   "execution_count": 29,
   "id": "4d530370",
   "metadata": {},
   "outputs": [
    {
     "data": {
      "image/png": "[encoded data removed]",
      "text/plain": [
       "<Figure size 1440x360 with 2 Axes>"
      ]
     },
     "metadata": {
      "needs_background": "light"
     },
     "output_type": "display_data"
    }
   ],
   "source": [
    "NUM_DSIZE_DOUBLINGS = 10\n",
    "\n",
    "fig, (ax1, ax2) = plt.subplots(1, 2)\n",
    "\n",
    "fig.set_size_inches(20, 5)\n",
    "\n",
    "fig.suptitle('Skicit-Learn vs Rapids Cost Comparison', fontsize=15, fontweight=\"bold\")\n",
    "\n",
    "# Setting the number of bars\n",
    "ind = np.arange(NUM_DSIZE_DOUBLINGS)\n",
    "\n",
    "# Defining the width between the bars\n",
    "width = 0.35\n",
    "\n",
    "# Defining the bar labels\n",
    "bar_labels = np.round(results_df_sklearn['Test Size'].drop_duplicates(), 3).astype(str) + \" GB\"\n",
    "\n",
    "plot(ax1, \n",
    "     results_df_sklearn[results_df_sklearn['Test'] == 'Linear Regression']['Average'],\n",
    "     results_df_rapids[results_df_rapids['Test'] == 'Linear Regression']['Average'],\n",
    "     'Linear Regression')\n",
    "\n",
    "plot(ax2, \n",
    "     results_df_sklearn[results_df_sklearn['Test'] == 'K Nearest Neighbour']['Average'],\n",
    "     results_df_rapids[results_df_rapids['Test'] == 'K Nearest Neighbour']['Average'],\n",
    "     'K Nearest Neighbour')\n",
    "plt.savefig('scikit-learn_v_rapids_cost.png')\n",
    "plt.show()"
   ]
  }
 ],
 "metadata": {
  "kernelspec": {
   "display_name": "Python 3 (ipykernel)",
   "language": "python",
   "name": "python3"
  },
  "language_info": {
   "codemirror_mode": {
    "name": "ipython",
    "version": 3
   },
   "file_extension": ".py",
   "mimetype": "text/x-python",
   "name": "python",
   "nbconvert_exporter": "python",
   "pygments_lexer": "ipython3",
   "version": "3.8.12"
  }
 },
 "nbformat": 4,
 "nbformat_minor": 5
}
