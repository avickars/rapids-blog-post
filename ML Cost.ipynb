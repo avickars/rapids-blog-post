{
 "cells": [
  {
   "cell_type": "markdown",
   "id": "373f39a0",
   "metadata": {},
   "source": [
    "# Estimating Costs"
   ]
  },
  {
   "cell_type": "markdown",
   "id": "25df0cb1",
   "metadata": {},
   "source": [
    "## Approximating Costs"
   ]
  },
  {
   "cell_type": "code",
   "execution_count": null,
   "id": "2f0db4d7",
   "metadata": {},
   "outputs": [],
   "source": [
    "import pandas as pd"
   ]
  },
  {
   "cell_type": "code",
   "execution_count": null,
   "id": "7741943e",
   "metadata": {},
   "outputs": [],
   "source": [
    "results_df_sklearn = pd.read_csv('AWS Results/results_df_sklearn.csv',index_col=0)\n",
    "results_df_sklearn['Cost'] = results_df_sklearn['Average']/3600 * 0.2"
   ]
  },
  {
   "cell_type": "code",
   "execution_count": null,
   "id": "20d5e6c2",
   "metadata": {},
   "outputs": [],
   "source": [
    "results_df_rapids = pd.read_csv('AWS Results/results_df_rapids_ml.csv',index_col=0)\n",
    "results_df_rapids['Cost'] = results_df_rapids['Average']/3600 *  0.379"
   ]
  },
  {
   "cell_type": "code",
   "execution_count": null,
   "id": "e4098dd9",
   "metadata": {},
   "outputs": [],
   "source": [
    "spark = pd.read_csv('AWS Results/spark_ml_results.csv')"
   ]
  },
  {
   "cell_type": "code",
   "execution_count": null,
   "id": "a18380b0",
   "metadata": {},
   "outputs": [],
   "source": [
    "spark['Cost'] = spark['Average']/3600*(3*0.2)"
   ]
  },
  {
   "cell_type": "markdown",
   "id": "467604a0",
   "metadata": {},
   "source": [
    "## Vizualization"
   ]
  },
  {
   "cell_type": "code",
   "execution_count": null,
   "id": "de58d7c1",
   "metadata": {},
   "outputs": [],
   "source": [
    "import os\n",
    "os.environ[ 'MPLCONFIGDIR' ] = '/tmp/'\n",
    "import matplotlib.pyplot as plt\n",
    "import numpy as np"
   ]
  },
  {
   "cell_type": "code",
   "execution_count": null,
   "id": "b1eda02e",
   "metadata": {},
   "outputs": [],
   "source": [
    "# Defining the plot that is used\n",
    "def plot(axs, averages_pandas, averages_rapids, averages_spark, test):\n",
    "    axs.bar(x = ind, \n",
    "            height=averages_pandas, \n",
    "            width = width, \n",
    "            color='royalblue', label='Pandas')\n",
    "\n",
    "    axs.bar(ind+width, \n",
    "                height=averages_rapids, \n",
    "                width = width, \n",
    "                color='seagreen',label='Rapids')\n",
    "    \n",
    "    axs.bar(ind+width+width, \n",
    "        height=averages_spark, \n",
    "        width = width, \n",
    "        color='purple',label='Spark')\n",
    "\n",
    "    axs.set_ylabel('Average Cost ($)')\n",
    "    axs.set_xlabel('Data Set Size (GB)')\n",
    "    axs.xaxis.label.set_fontsize(15)\n",
    "    axs.yaxis.label.set_fontsize(15)\n",
    "    for item in (axs.get_xticklabels() + axs.get_yticklabels()):\n",
    "        item.set_fontsize(15)\n",
    "        \n",
    "    axs.set_title(f\"Test: {test}\",fontweight=\"bold\", fontsize=15)\n",
    "    axs.legend(loc='upper left',prop={'size': 15})\n",
    "    axs.set_xticks(ticks=ind + width/2, \n",
    "              labels=bar_labels)\n",
    "    \n",
    "    if test == 'K Nearest Neighbour':\n",
    "        ax_new = fig.add_axes([0.655, 0.292, 0.3, 0.15])\n",
    "        plt.ylim(0, 0.0000006)\n",
    "    else:\n",
    "        ax_new = fig.add_axes([0.655, 0.757, 0.3, 0.15])\n",
    "        plt.ylim(0, 0.00005)\n",
    "    \n",
    "    ax_new.bar(x = ind, \n",
    "            height=averages_pandas, \n",
    "            width = width, \n",
    "            color='royalblue', label='Scikit-Learn')\n",
    "\n",
    "    ax_new.bar(ind+width, \n",
    "                height=averages_rapids, \n",
    "                width = width, \n",
    "                color='seagreen',label='Rapids')\n",
    "\n",
    "    ax_new.bar(ind+width+width, \n",
    "            height=averages_spark, \n",
    "            width = width, \n",
    "            color='purple',label='Spark')\n",
    "\n",
    "    ax_new.set_xticks([])\n",
    "    return axs"
   ]
  },
  {
   "cell_type": "code",
   "execution_count": null,
   "id": "4d530370",
   "metadata": {},
   "outputs": [],
   "source": [
    "NUM_DSIZE_DOUBLINGS = 9\n",
    "\n",
    "fig, (ax1, ax2) = plt.subplots(2, 1)\n",
    "\n",
    "fig.set_size_inches(20, 10)\n",
    "\n",
    "fig.tight_layout(pad=5)\n",
    "\n",
    "fig.suptitle('Skicit-Learn vs Rapids vs Spark ML Cost Comparison', fontsize=18, fontweight=\"bold\")\n",
    "\n",
    "# Setting the number of bars\n",
    "ind = np.arange(0, NUM_DSIZE_DOUBLINGS*2, 2)\n",
    "\n",
    "# Defining the width between the bars\n",
    "width = 0.55\n",
    "\n",
    "# Defining the bar labels\n",
    "bar_labels = np.round(results_df_sklearn['Test Size'].drop_duplicates(), 3).astype(str)\n",
    "\n",
    "plot(ax1, \n",
    "     results_df_sklearn[results_df_sklearn['Test'] == 'Linear Regression']['Cost'],\n",
    "     results_df_rapids[results_df_rapids['Test'] == 'Linear Regression']['Cost'],\n",
    "     spark[spark['Test'] == 'Linear Regression']['Cost'],\n",
    "     'Linear Regression')\n",
    "\n",
    "plot(ax2, \n",
    "     results_df_sklearn[results_df_sklearn['Test'] == 'K Nearest Neighbour']['Cost'],\n",
    "     results_df_rapids[results_df_rapids['Test'] == 'K Nearest Neighbour']['Cost'],\n",
    "     spark[spark['Test'] == 'K Nearest Neighbour']['Cost'],\n",
    "     'K Nearest Neighbour')\n",
    "plt.savefig('AWS Results/ml_cost.png')\n",
    "plt.show()"
   ]
  },
  {
   "cell_type": "code",
   "execution_count": null,
   "id": "ebe9302a",
   "metadata": {},
   "outputs": [],
   "source": []
  }
 ],
 "metadata": {
  "kernelspec": {
   "display_name": "Python 3 (ipykernel)",
   "language": "python",
   "name": "python3"
  },
  "language_info": {
   "codemirror_mode": {
    "name": "ipython",
    "version": 3
   },
   "file_extension": ".py",
   "mimetype": "text/x-python",
   "name": "python",
   "nbconvert_exporter": "python",
   "pygments_lexer": "ipython3",
   "version": "3.8.12"
  }
 },
 "nbformat": 4,
 "nbformat_minor": 5
}
