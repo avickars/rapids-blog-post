{
 "cells": [
  {
   "cell_type": "markdown",
   "id": "373f39a0",
   "metadata": {},
   "source": [
    "# Creating Data Subsets"
   ]
  },
  {
   "cell_type": "code",
   "execution_count": 2,
   "id": "6b358d60",
   "metadata": {},
   "outputs": [],
   "source": [
    "import cudf\n",
    "import sys\n",
    "import pandas as pd\n",
    "import time\n",
    "\n",
    "from cuml import make_regression\n",
    "from cuml.linear_model import LinearRegression as LinearRegression_rapids\n",
    "from cuml.neighbors import KNeighborsRegressor as KNeighborsRegressor_rapids\n",
    "from sklearn.linear_model import LinearRegression as LinearRegression_sklearn\n",
    "from sklearn.neighbors import KNeighborsRegressor as KNeighborsRegressor_sklearn"
   ]
  },
  {
   "cell_type": "markdown",
   "id": "25df0cb1",
   "metadata": {},
   "source": [
    "## Creating Tests"
   ]
  },
  {
   "cell_type": "code",
   "execution_count": 3,
   "id": "2f0db4d7",
   "metadata": {},
   "outputs": [],
   "source": [
    "NUM_EXECUTIONS_PER_TEST = 3\n",
    "\n",
    "NUM_DSIZE_DOUBLINGS = 11"
   ]
  },
  {
   "cell_type": "code",
   "execution_count": 4,
   "id": "dd60f7f7",
   "metadata": {},
   "outputs": [],
   "source": [
    "def linear_regression_rapids():    \n",
    "    ols = LinearRegression_rapids(fit_intercept=True,\n",
    "                                       normalize=True,\n",
    "                                       algorithm='eig')    \n",
    "    # Starting timer\n",
    "    t0 = time.time()   \n",
    "\n",
    "    for i in range(0,NUM_EXECUTIONS_PER_TEST):\n",
    "        ols.fit(X, y)\n",
    "\n",
    "    # Stopping clock\n",
    "    t1 = time.time()\n",
    "\n",
    "    # Recording Results\n",
    "    total_time = t1-t0\n",
    "    avg_time = total_time/NUM_EXECUTIONS_PER_TEST\n",
    "    \n",
    "    del ols\n",
    "\n",
    "    return total_time, avg_time\n",
    "\n",
    "def k_nearest_neighbour_regression_rapids():\n",
    "    knn = KNeighborsRegressor_rapids(n_neighbors=5)\n",
    "    \n",
    "    # Starting timer\n",
    "    t0 = time.time()   \n",
    "\n",
    "    for i in range(0,NUM_EXECUTIONS_PER_TEST):\n",
    "        knn.fit(X, y)\n",
    "\n",
    "    # Stopping clock\n",
    "    t1 = time.time()\n",
    "\n",
    "    # Recording Results\n",
    "    total_time = t1-t0\n",
    "    avg_time = total_time/NUM_EXECUTIONS_PER_TEST\n",
    "    \n",
    "    del knn\n",
    "\n",
    "    return total_time, avg_time"
   ]
  },
  {
   "cell_type": "markdown",
   "id": "92911255",
   "metadata": {},
   "source": [
    "## Executing Tests"
   ]
  },
  {
   "cell_type": "markdown",
   "id": "b9a79158",
   "metadata": {},
   "source": [
    "### RAPIDS"
   ]
  },
  {
   "cell_type": "code",
   "execution_count": 11,
   "id": "fceaa348",
   "metadata": {},
   "outputs": [],
   "source": [
    "results = []\n",
    "\n",
    "for i in range(0, NUM_DSIZE_DOUBLINGS):\n",
    "    X = cudf.read_csv(f\"ml_data/{i}/X.csv.gz\")\n",
    "    y = X.iloc[:,-1]\n",
    "    X = X.iloc[:,0:399]\n",
    "        \n",
    "    # ******************************************************************************\n",
    "    # LINEAR REGRESSION TEST\n",
    "    \n",
    "    test = {'Test':'Linear Regression'}\n",
    "    total_time, avg_time = linear_regression_rapids()\n",
    "    test['Total'] = total_time\n",
    "    test['Average'] = avg_time\n",
    "    \n",
    "    results.append(test)\n",
    "    \n",
    "    # ******************************************************************************\n",
    "    \n",
    "    # K NEAREST NEIGHBOUR TEST\n",
    "    \n",
    "    test = {'Test':'K Nearest Neighbour'}\n",
    "    total_time, avg_time = k_nearest_neighbour_regression_rapids()\n",
    "    test['Total'] = total_time\n",
    "    test['Average'] = avg_time\n",
    "    \n",
    "    results.append(test)\n",
    "    \n",
    "#     ******************************************************************************\n",
    "        \n",
    "results_df_rapids = pd.DataFrame(results)\n",
    "results_df_rapids.to_csv('results_df_rapids_ml.csv')"
   ]
  }
 ],
 "metadata": {
  "kernelspec": {
   "display_name": "Python 3 (ipykernel)",
   "language": "python",
   "name": "python3"
  },
  "language_info": {
   "codemirror_mode": {
    "name": "ipython",
    "version": 3
   },
   "file_extension": ".py",
   "mimetype": "text/x-python",
   "name": "python",
   "nbconvert_exporter": "python",
   "pygments_lexer": "ipython3",
   "version": "3.8.12"
  }
 },
 "nbformat": 4,
 "nbformat_minor": 5
}
