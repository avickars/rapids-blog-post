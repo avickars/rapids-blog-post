{
 "cells": [
  {
   "cell_type": "markdown",
   "id": "552e0a12",
   "metadata": {},
   "source": [
    "## Approximating Costs"
   ]
  },
  {
   "cell_type": "code",
   "execution_count": null,
   "id": "8b9a2de4",
   "metadata": {},
   "outputs": [],
   "source": [
    "import pandas as pd"
   ]
  },
  {
   "cell_type": "code",
   "execution_count": null,
   "id": "20abe75a",
   "metadata": {},
   "outputs": [],
   "source": [
    "results_df_pandas = pd.read_csv('AWS Results/results_df_pandas.csv',index_col=0)\n",
    "results_df_pandas['Cost'] = results_df_pandas['Average']/3600 * 0.2"
   ]
  },
  {
   "cell_type": "code",
   "execution_count": null,
   "id": "8dc3875b",
   "metadata": {},
   "outputs": [],
   "source": [
    "results_df_rapids = pd.read_csv('AWS Results/results_df_rapids_etl.csv',index_col=0)\n",
    "results_df_rapids['Cost'] = results_df_rapids['Average']/3600 * 0.379"
   ]
  },
  {
   "cell_type": "code",
   "execution_count": null,
   "id": "6cc1a90b",
   "metadata": {},
   "outputs": [],
   "source": [
    "spark = pd.read_csv('AWS Results/spark_etl_results.csv')"
   ]
  },
  {
   "cell_type": "code",
   "execution_count": null,
   "id": "0e934545",
   "metadata": {},
   "outputs": [],
   "source": [
    "spark['Cost'] = spark['Average']/3600*(3*0.2)"
   ]
  },
  {
   "cell_type": "markdown",
   "id": "467604a0",
   "metadata": {},
   "source": [
    "## Vizualization"
   ]
  },
  {
   "cell_type": "code",
   "execution_count": null,
   "id": "de58d7c1",
   "metadata": {},
   "outputs": [],
   "source": [
    "import os\n",
    "os.environ[ 'MPLCONFIGDIR' ] = '/tmp/'\n",
    "import matplotlib.pyplot as plt\n",
    "import numpy as np"
   ]
  },
  {
   "cell_type": "code",
   "execution_count": null,
   "id": "b1eda02e",
   "metadata": {},
   "outputs": [],
   "source": [
    "# Defining the plot that is used\n",
    "def plot(axs, averages_pandas, averages_rapids, averages_spark, test):\n",
    "    axs.bar(x = ind, \n",
    "            height=averages_pandas, \n",
    "            width = width, \n",
    "            color='royalblue', label='Pandas')\n",
    "\n",
    "    axs.bar(ind+width, \n",
    "                height=averages_rapids, \n",
    "                width = width, \n",
    "                color='seagreen',label='Rapids')\n",
    "    \n",
    "    axs.bar(ind+width+width, \n",
    "        height=averages_spark, \n",
    "        width = width, \n",
    "        color='purple',label='Spark')\n",
    "\n",
    "    axs.set_ylabel('Average Cost ($)')\n",
    "    axs.set_xlabel('Data Set Size (GB)')\n",
    "    axs.xaxis.label.set_fontsize(20)\n",
    "    axs.yaxis.label.set_fontsize(20)\n",
    "    for item in (axs.get_xticklabels() + axs.get_yticklabels()):\n",
    "        item.set_fontsize(17)\n",
    "        \n",
    "    axs.set_title(f\"Test: {test}\",fontweight=\"bold\", fontsize=25)\n",
    "    axs.legend(loc='upper left', prop={'size': 25})\n",
    "    axs.set_xticks(ticks=ind + width/2, \n",
    "              labels=bar_labels)\n",
    "    \n",
    "    if test == 'Mean':\n",
    "        ax_new = subfigs[0].add_axes([0.238, 0.785, 0.25, 0.17])\n",
    "        plt.ylim(0, 0.0000002)\n",
    "    elif test == 'Sort':\n",
    "        ax_new = subfigs[0].add_axes([0.743, 0.785, 0.25, 0.17])\n",
    "        plt.ylim(0, 0.000008)\n",
    "    elif test == 'Merge':\n",
    "        ax_new = subfigs[0].add_axes([0.238, 0.280, 0.25, 0.17])\n",
    "        plt.ylim(0, 0.00002)\n",
    "    elif test == 'Filter':\n",
    "        ax_new = subfigs[0].add_axes([0.743, 0.280, 0.25, 0.17])\n",
    "        plt.ylim(0, 0.000002)\n",
    "    else:\n",
    "        ax_new = subfigs[1].add_axes([0.693, 0.565, 0.3, 0.35])\n",
    "        plt.ylim(0, 0.00004)\n",
    "        \n",
    "        \n",
    "    ax_new.bar(x = ind, \n",
    "            height=averages_pandas, \n",
    "            width = width, \n",
    "            color='royalblue', label='Scikit-Learn')\n",
    "\n",
    "    ax_new.bar(ind+width, \n",
    "                height=averages_rapids, \n",
    "                width = width, \n",
    "                color='seagreen',label='Rapids')\n",
    "\n",
    "    ax_new.bar(ind+width+width, \n",
    "            height=averages_spark, \n",
    "            width = width, \n",
    "            color='purple',label='Spark')\n",
    "\n",
    "    ax_new.set_xticks([])\n",
    "    return axs"
   ]
  },
  {
   "cell_type": "code",
   "execution_count": null,
   "id": "73f5f7af",
   "metadata": {},
   "outputs": [],
   "source": [
    "# Creating the plot matrix\n",
    "\n",
    "NUM_DSIZE_DOUBLINGS = 12\n",
    "\n",
    "# Computing an array to hold the test names\n",
    "tests = np.append(results_df_pandas['Test'].drop_duplicates().values,'None').reshape((3,2))\n",
    "\n",
    "# Defining the figure\n",
    "fig = plt.figure(constrained_layout=True,figsize=(3,3))\n",
    "fig.tight_layout(pad=5.0)\n",
    "\n",
    "fig.suptitle('Pandas vs Rapids vs Spark Cost Comparison', fontsize=30, fontweight=\"bold\")\n",
    "\n",
    "# Setting the fig size\n",
    "fig.set_size_inches(25, 20)\n",
    "\n",
    "# Creating the subfigures\n",
    "subfigs = fig.subfigures(2, 1, wspace=1,height_ratios=[2, 1.])\n",
    "axs = subfigs[0].subplots(2, 2)\n",
    "\n",
    "# Setting the number of bars\n",
    "ind = np.arange(0, NUM_DSIZE_DOUBLINGS*2, 2)\n",
    "\n",
    "# Defining the width between the bars\n",
    "width = 0.55\n",
    "\n",
    "# Defining the bar labels\n",
    "bar_labels = np.round(results_df_pandas['Test Size'].drop_duplicates(), 3).astype(str)\n",
    "\n",
    "# Creating the plots\n",
    "for i in range(0, 2):\n",
    "    for j in range(0, 2):\n",
    "        test = tests[i, j]            \n",
    "        plot(axs[i,j], \n",
    "             results_df_pandas[results_df_pandas['Test'] == test]['Cost'],\n",
    "             results_df_rapids[results_df_rapids['Test'] == test]['Cost'],\n",
    "             spark[spark['Test'] == test]['Cost'],\n",
    "             test)\n",
    "# Creating the bottom plot since there is an odd number\n",
    "ax = subfigs[1].subplots(1,1)\n",
    "plot(ax, \n",
    "     results_df_pandas[results_df_pandas['Test'] == 'All']['Cost'],\n",
    "     results_df_rapids[results_df_rapids['Test'] == 'All']['Cost'],\n",
    "     spark[spark['Test'] == 'All']['Cost'],\n",
    "     'All')\n",
    "plt.savefig('AWS Results/etl_cost.png')\n",
    "plt.show()"
   ]
  }
 ],
 "metadata": {
  "kernelspec": {
   "display_name": "Python 3 (ipykernel)",
   "language": "python",
   "name": "python3"
  },
  "language_info": {
   "codemirror_mode": {
    "name": "ipython",
    "version": 3
   },
   "file_extension": ".py",
   "mimetype": "text/x-python",
   "name": "python",
   "nbconvert_exporter": "python",
   "pygments_lexer": "ipython3",
   "version": "3.8.12"
  }
 },
 "nbformat": 4,
 "nbformat_minor": 5
}
