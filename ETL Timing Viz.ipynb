{
 "cells": [
  {
   "cell_type": "code",
   "execution_count": null,
   "id": "3680fe40",
   "metadata": {},
   "outputs": [],
   "source": [
    "import pandas as pd\n",
    "import os\n",
    "os.environ[ 'MPLCONFIGDIR' ] = '/tmp/'\n",
    "import matplotlib.pyplot as plt\n",
    "import numpy as np"
   ]
  },
  {
   "cell_type": "code",
   "execution_count": null,
   "id": "1e2c4887",
   "metadata": {},
   "outputs": [],
   "source": [
    "NUM_DSIZE_DOUBLINGS = 12"
   ]
  },
  {
   "cell_type": "code",
   "execution_count": null,
   "id": "1d6014f7",
   "metadata": {},
   "outputs": [],
   "source": [
    "spark = pd.read_csv('AWS Results/spark_etl_results.csv')"
   ]
  },
  {
   "cell_type": "code",
   "execution_count": null,
   "id": "f4908b82",
   "metadata": {},
   "outputs": [],
   "source": [
    "results_df_pandas = pd.read_csv('AWS Results/results_df_pandas.csv',index_col=0)"
   ]
  },
  {
   "cell_type": "code",
   "execution_count": null,
   "id": "5d70fb11",
   "metadata": {},
   "outputs": [],
   "source": [
    "results_df_rapids = pd.read_csv('AWS Results/results_df_rapids_etl.csv',index_col=0)"
   ]
  },
  {
   "cell_type": "code",
   "execution_count": null,
   "id": "199013fd",
   "metadata": {},
   "outputs": [],
   "source": [
    "# Defining the plot that is used\n",
    "def plot(axs, averages_pandas, averages_rapids, averages_spark, test):\n",
    "    axs.bar(x = ind, \n",
    "            height=averages_pandas, \n",
    "            width = width, \n",
    "            color='royalblue', label='Pandas')\n",
    "\n",
    "    axs.bar(ind+width, \n",
    "                height=averages_rapids, \n",
    "                width = width, \n",
    "                color='seagreen',label='Rapids')\n",
    "    axs.bar(ind+width+width, \n",
    "            height=averages_spark, \n",
    "            width = width, \n",
    "            color='purple',label='Spark')\n",
    "\n",
    "    axs.set_ylabel('Average Time (s)')\n",
    "    axs.set_xlabel('Data Set Size (GB)')\n",
    "    axs.set_title(f\"Test: {test}\",fontweight=\"bold\", fontsize=25)\n",
    "    axs.xaxis.label.set_fontsize(20)\n",
    "    axs.yaxis.label.set_fontsize(20)\n",
    "    for item in (axs.get_xticklabels() + axs.get_yticklabels()):\n",
    "        item.set_fontsize(17)\n",
    "        \n",
    "    axs.legend(loc='upper left',prop={'size': 20})\n",
    "    axs.set_xticks(ticks=ind + width/2, \n",
    "              labels=bar_labels)\n",
    "    \n",
    "    if test == 'Mean':\n",
    "        ax_new = subfigs[0].add_axes([0.238, 0.790, 0.25, 0.17])\n",
    "        plt.ylim(0, 0.006)\n",
    "    elif test == 'Sort':\n",
    "        ax_new = subfigs[0].add_axes([0.743, 0.790, 0.25, 0.17])\n",
    "        plt.ylim(0, 0.25)\n",
    "    elif test == 'Merge':\n",
    "        ax_new = subfigs[0].add_axes([0.238, 0.285, 0.25, 0.17])\n",
    "        plt.ylim(0, .5)\n",
    "    elif test == 'Filter':\n",
    "        ax_new = subfigs[0].add_axes([0.743, 0.285, 0.25, 0.17])\n",
    "        plt.ylim(0, .08)\n",
    "    else:\n",
    "        ax_new = subfigs[1].add_axes([0.693, 0.57, 0.3, 0.35])\n",
    "        plt.ylim(0, 1)\n",
    "        \n",
    "        \n",
    "    ax_new.bar(x = ind, \n",
    "            height=averages_pandas, \n",
    "            width = width, \n",
    "            color='royalblue', label='Scikit-Learn')\n",
    "\n",
    "    ax_new.bar(ind+width, \n",
    "                height=averages_rapids, \n",
    "                width = width, \n",
    "                color='seagreen',label='Rapids')\n",
    "\n",
    "    ax_new.bar(ind+width+width, \n",
    "            height=averages_spark, \n",
    "            width = width, \n",
    "            color='purple',label='Spark')\n",
    "\n",
    "    ax_new.set_xticks([])\n",
    "        \n",
    "    return axs"
   ]
  },
  {
   "cell_type": "code",
   "execution_count": null,
   "id": "7b0e7707",
   "metadata": {},
   "outputs": [],
   "source": [
    "# Creating the plot matrix\n",
    "\n",
    "# Computing an array to hold the test names\n",
    "tests = np.append(results_df_pandas['Test'].drop_duplicates().values,'None').reshape((3,2))\n",
    "\n",
    "# Defining the figure\n",
    "fig = plt.figure(constrained_layout=True,figsize=(3,3))\n",
    "fig.tight_layout(pad=5.0)\n",
    "\n",
    "fig.suptitle('Pandas vs Rapids vs Spark Timing Comparison', fontsize=30, fontweight=\"bold\")\n",
    "\n",
    "# Setting the fig size\n",
    "fig.set_size_inches(25, 20)\n",
    "\n",
    "# Creating the subfigures\n",
    "subfigs = fig.subfigures(2, 1, wspace=1,height_ratios=[2, 1.])\n",
    "axs = subfigs[0].subplots(2, 2)\n",
    "\n",
    "# Setting the number of bars\n",
    "# ind = np.arange(NUM_DSIZE_DOUBLINGS)\n",
    "ind = np.arange(0, NUM_DSIZE_DOUBLINGS*2, 2)\n",
    "\n",
    "# Defining the width between the bars\n",
    "width = 0.55\n",
    "\n",
    "# Defining the bar labels\n",
    "bar_labels = np.round(results_df_pandas['Test Size'].drop_duplicates(), 3).astype(str)\n",
    "\n",
    "# Creating the plots\n",
    "for i in range(0, 2):\n",
    "    for j in range(0, 2):\n",
    "        test = tests[i, j]\n",
    "        plot(axs[i,j], \n",
    "             results_df_pandas[results_df_pandas['Test'] == test]['Average'],\n",
    "             results_df_rapids[results_df_rapids['Test'] == test]['Average'],\n",
    "             spark[spark['Test'] == test]['Average'],\n",
    "             test)\n",
    "# Creating the bottom plot since there is an odd number\n",
    "ax = subfigs[1].subplots(1,1)\n",
    "plot(ax, \n",
    "     results_df_pandas[results_df_pandas['Test'] == 'All']['Average'],\n",
    "     results_df_rapids[results_df_rapids['Test'] == 'All']['Average'],\n",
    "     spark[spark['Test'] == 'All']['Average'],\n",
    "     'All')\n",
    "plt.savefig('AWS Results/etl_timing.png')\n",
    "plt.show()"
   ]
  },
  {
   "cell_type": "code",
   "execution_count": null,
   "id": "f22f4724",
   "metadata": {},
   "outputs": [],
   "source": []
  }
 ],
 "metadata": {
  "kernelspec": {
   "display_name": "Python 3 (ipykernel)",
   "language": "python",
   "name": "python3"
  },
  "language_info": {
   "codemirror_mode": {
    "name": "ipython",
    "version": 3
   },
   "file_extension": ".py",
   "mimetype": "text/x-python",
   "name": "python",
   "nbconvert_exporter": "python",
   "pygments_lexer": "ipython3",
   "version": "3.8.12"
  }
 },
 "nbformat": 4,
 "nbformat_minor": 5
}
